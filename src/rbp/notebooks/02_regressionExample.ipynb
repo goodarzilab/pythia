{
 "cells": [
  {
   "cell_type": "code",
   "execution_count": 1,
   "metadata": {},
   "outputs": [],
   "source": [
    "from train import *\n",
    "from model import *\n",
    "import ushuffle\n",
    "import RNA\n",
    "\n",
    "\n",
    "torch.manual_seed(42)\n",
    "np.random.seed(42)"
   ]
  },
  {
   "cell_type": "code",
   "execution_count": 2,
   "metadata": {},
   "outputs": [
    {
     "name": "stdout",
     "output_type": "stream",
     "text": [
      "1.4.0\n",
      "2.4.13\n"
     ]
    }
   ],
   "source": [
    "print(torch.__version__)\n",
    "print(RNA.__version__)"
   ]
  },
  {
   "cell_type": "code",
   "execution_count": 3,
   "metadata": {},
   "outputs": [],
   "source": [
    "def get_mfe(seq):\n",
    "    seq = seq.replace(\"T\", \"U\")\n",
    "    fc = RNA.fold_compound(seq)\n",
    "    _, mfe = fc.mfe()\n",
    "    return seq, mfe\n",
    "\n",
    "\n",
    "def shuffle_seq(sample_seq, num_seqs):\n",
    "    ar_seqs = np.zeros(\n",
    "        num_seqs, dtype=\"|U256\")\n",
    "    ar_mfes = np.zeros(\n",
    "        num_seqs)\n",
    "    curseq = sample_seq.encode()\n",
    "    shuffler = ushuffle.Shuffler(\n",
    "        curseq, 2)\n",
    "    for i in range(num_seqs):\n",
    "        shuffled_b = shuffler.shuffle()\n",
    "        shuffled_seq = shuffled_b.decode()\n",
    "        shuffled_seq, mfe = get_mfe(shuffled_seq)\n",
    "        ar_seqs[i] = shuffled_seq\n",
    "        ar_mfes[i] = mfe\n",
    "        if i % 10000 == 0:\n",
    "            print(\"{}/{} added\".format(i, num_seqs))\n",
    "    outdict = {\n",
    "        \"Input\": ar_seqs,\n",
    "        \"MFEs\": ar_mfes}\n",
    "    return outdict"
   ]
  },
  {
   "cell_type": "code",
   "execution_count": 4,
   "metadata": {},
   "outputs": [
    {
     "name": "stdout",
     "output_type": "stream",
     "text": [
      "dict_keys(['Training', 'Tuning', 'Validation'])\n",
      "(640000,)\n",
      "dict_keys(['Input', 'MFEs', 'Input_idx_st', 'MFEs_idx_st'])\n"
     ]
    }
   ],
   "source": [
    "# generate input dictionary\n",
    "length_seq = 50\n",
    "outdir = \"notebook_data\"\n",
    "joblibpath = \"/scratch/hdd001/home/mkarimza/clipData/rawData/mfeDataMultipleLengths_parallel/chr4.119225735.Length.50_merged.joblib\"\n",
    "tensordict = joblib.load(joblibpath)\n",
    "print(tensordict.keys())\n",
    "print(tensordict[\"Training\"][\"Input\"].shape)\n",
    "print(tensordict[\"Training\"].keys())"
   ]
  },
  {
   "cell_type": "code",
   "execution_count": 5,
   "metadata": {},
   "outputs": [
    {
     "data": {
      "text/plain": [
       "{'optimizer': 'Adam',\n",
       " 'inputsize': 50,\n",
       " 'lr': 0.004,\n",
       " 'dp': 0.75,\n",
       " 'conv_width': 64,\n",
       " 'kernel': 16,\n",
       " 'dilationTraining': False,\n",
       " 'dil_start': 2,\n",
       " 'dil_end': 12,\n",
       " 'bulge_size': 2,\n",
       " 'binarize_fd': False,\n",
       " 'model_name': 'Pythia',\n",
       " 'DisConvDP': False}"
      ]
     },
     "execution_count": 5,
     "metadata": {},
     "output_type": "execute_result"
    }
   ],
   "source": [
    "tensordict_train = tensordict[\"Training\"]\n",
    "torch.manual_seed(42)\n",
    "inputsize = length_seq\n",
    "optim_name = \"Adam\"\n",
    "lr = 0.004\n",
    "kernel_size = 16\n",
    "conv_width = 64\n",
    "dp = 0.75\n",
    "trainable = False  # for the fixed dilated layer\n",
    "dil_start = 2\n",
    "dil_end = 12\n",
    "bulge_size = 2\n",
    "binarize_fd = False\n",
    "model_name = \"Pythia\"\n",
    "disable_conv_dp = False\n",
    "useRegConv = False\n",
    "modelparams = get_model_params(\n",
    "    inputsize, optim_name, lr, kernel_size, conv_width, dp,\n",
    "    trainable, dil_start, dil_end, bulge_size, binarize_fd,\n",
    "    model_name, disable_conv_dp)\n",
    "modelparams"
   ]
  },
  {
   "cell_type": "code",
   "execution_count": 6,
   "metadata": {},
   "outputs": [
    {
     "name": "stdout",
     "output_type": "stream",
     "text": [
      "['/checkpoint/mkarimza/8567878/pythiaModel_optimizer-Adam_inputsize-50_lr-0.004_dp-0.75_conv_width-64_kernel-16_dilationTraining-False_dil_start-2_dil_end-12_bulge_size-2_binarize_fd-False_model_name-Pythia_DisConvDP-FalselossScale_1_1_0.pt', '/checkpoint/mkarimza/8567878/pythiaModel_optimizer-Adam_inputsize-50_lr-0.004_dp-0.75_conv_width-64_kernel-16_dilationTraining-False_dil_start-2_dil_end-12_bulge_size-2_binarize_fd-False_model_name-Pythia_DisConvDP-FalselossScale_1_1_1.pt', 'notebook_data/pythiaModel_optimizer-Adam_inputsize-50_lr-0.004_dp-0.75_conv_width-64_kernel-16_dilationTraining-False_dil_start-2_dil_end-12_bulge_size-2_binarize_fd-False_model_name-Pythia_DisConvDP-FalselossScale_1_1/pythiaModel_optimizer-Adam_inputsize-50_lr-0.004_dp-0.75_conv_width-64_kernel-16_dilationTraining-False_dil_start-2_dil_end-12_bulge_size-2_binarize_fd-False_model_name-Pythia_DisConvDP-FalselossScale_1_1_best.pt', 'notebook_data/pythiaModel_optimizer-Adam_inputsize-50_lr-0.004_dp-0.75_conv_width-64_kernel-16_dilationTraining-False_dil_start-2_dil_end-12_bulge_size-2_binarize_fd-False_model_name-Pythia_DisConvDP-FalselossScale_1_1/pythiaModel_optimizer-Adam_inputsize-50_lr-0.004_dp-0.75_conv_width-64_kernel-16_dilationTraining-False_dil_start-2_dil_end-12_bulge_size-2_binarize_fd-False_model_name-Pythia_DisConvDP-FalselossScale_1_1_latest.pt']\n",
      "Pythia has 357945 learnable parameters\n"
     ]
    }
   ],
   "source": [
    "optimizer_name = \"Adam\"\n",
    "dictpaths = compile_paths(outdir, modelparams,\n",
    "                          useRegConv=useRegConv)\n",
    "chkpaths = dictpaths[\"chkpaths\"] +\\\n",
    "    [dictpaths[\"bestpath\"], dictpaths[\"modelpath\"]]\n",
    "print(chkpaths)\n",
    "net = PythiaModel(\n",
    "    inputsize=inputsize,\n",
    "    kernel_size=kernel_size,\n",
    "    use_fixedConv=np.logical_not(useRegConv),\n",
    "    dil_start=dil_start, dil_end=dil_end,\n",
    "    bulge_size=bulge_size,\n",
    "    dp=dp, trainable=trainable,\n",
    "    binarize_fd=binarize_fd,\n",
    "    disable_conv_dp=disable_conv_dp,\n",
    "    num_outputs=1) # this line is important for regression output (defauls is 2 for binary classification)\n",
    "net.to(device)\n",
    "n_params = sum(p.numel() for p in net.parameters() if p.requires_grad)\n",
    "print(\"{} has {} learnable parameters\".format(model_name, n_params))\n",
    "optimizer = get_optimizer(\n",
    "    optimizer_name, net, lr)\n",
    "for eachpath in chkpaths:\n",
    "    if os.path.exists(eachpath):\n",
    "        net, optimizer = load_model_from_file(eachpath, net, optimizer)\n",
    "        print(\"Loaded from {}\".format(eachpath))\n",
    "if torch.cuda.device_count() > 1:\n",
    "    print(\"Will use {} GPUs!\".format(torch.cuda.device_count()))\n",
    "    net = nn.DataParallel(net)"
   ]
  },
  {
   "cell_type": "code",
   "execution_count": 7,
   "metadata": {},
   "outputs": [],
   "source": [
    "MINIBATCH = 512\n",
    "MAXEPOCHS = 5\n",
    "\n",
    "\n",
    "class RMSELoss(nn.Module):\n",
    "    def __init__(self, eps=1e-6):\n",
    "        super().__init__()\n",
    "        self.mse = nn.MSELoss()\n",
    "        self.eps = eps\n",
    "\n",
    "    def forward(self, yhat, y):\n",
    "        loss = torch.sqrt(self.mse(yhat, y) + self.eps)\n",
    "        return loss\n",
    "\n",
    "    \n",
    "crit_mse = RMSELoss().to(device)\n",
    "logpath = get_logpath(dictpaths)"
   ]
  },
  {
   "cell_type": "code",
   "execution_count": 8,
   "metadata": {},
   "outputs": [],
   "source": [
    "from torch.utils.data import Dataset\n",
    "from torch.utils.data import DataLoader\n",
    "\n",
    "\n",
    "def get_seq(curseq):\n",
    "    curseq = np.array([list(curseq)]).reshape(-1, 1)\n",
    "    dict_seq = {\"A\": 0, \"C\": 1,\n",
    "                \"G\": 2, \"U\": 3}\n",
    "    seqlen = len(curseq[0])\n",
    "    train1 = np.zeros(\n",
    "        (curseq.shape[0], 4, len(curseq[0])))\n",
    "    for i in range(curseq.shape[0]):\n",
    "        for j in range(seqlen):\n",
    "            if curseq[i][j] != \"N\":\n",
    "                k = dict_seq[curseq[i][j]]\n",
    "                train1[i, k, j] = 1\n",
    "    train1 = torch.from_numpy(train1).to(device)\n",
    "    train1 = train1.type(torch.float32)\n",
    "    return train1\n",
    "\n",
    "\n",
    "class PythiaRegressionDataLoader(Dataset):\n",
    "    def __init__(self, tensordict):\n",
    "        self.input = tensordict[\"Input\"]\n",
    "        self.mfe = tensordict[\"MFEs\"]\n",
    "    \n",
    "    def __len__(self):\n",
    "        return self.input.shape[0]\n",
    "    \n",
    "    def __getitem__(self, idx):\n",
    "        train1 = get_seq(self.input[idx]).float()\n",
    "        resp_mfe = torch.from_numpy(self.mfe[idx].reshape(-1, 1)).float()\n",
    "        return train1, resp_mfe\n",
    "\n",
    "\n",
    "DataObjTrain = PythiaRegressionDataLoader(tensordict[\"Training\"])\n",
    "DataObjTune = PythiaRegressionDataLoader(tensordict[\"Tuning\"])\n",
    "DataObjValid = PythiaRegressionDataLoader(tensordict[\"Validation\"])\n",
    "\n",
    "\n",
    "train_dataloader = DataLoader(DataObjTrain, batch_size=MINIBATCH, shuffle=True)\n",
    "tune_dataloader = DataLoader(DataObjTune, batch_size=MINIBATCH, shuffle=True)\n",
    "validation_dataloader = DataLoader(DataObjValid, batch_size=MINIBATCH, shuffle=False)"
   ]
  },
  {
   "cell_type": "code",
   "execution_count": 9,
   "metadata": {},
   "outputs": [
    {
     "name": "stdout",
     "output_type": "stream",
     "text": [
      "Selected optimization level O1:  Insert automatic casts around Pytorch functions and Tensor methods.\n",
      "\n",
      "Defaults for this optimization level are:\n",
      "enabled                : True\n",
      "opt_level              : O1\n",
      "cast_model_type        : None\n",
      "patch_torch_functions  : True\n",
      "keep_batchnorm_fp32    : None\n",
      "master_weights         : None\n",
      "loss_scale             : dynamic\n",
      "Processing user overrides (additional kwargs that are not None)...\n",
      "After processing overrides, optimization options are:\n",
      "enabled                : True\n",
      "opt_level              : O1\n",
      "cast_model_type        : None\n",
      "patch_torch_functions  : True\n",
      "keep_batchnorm_fp32    : None\n",
      "master_weights         : None\n",
      "loss_scale             : dynamic\n"
     ]
    }
   ],
   "source": [
    "from scipy import stats\n",
    "from sklearn.metrics import r2_score\n",
    "from apex import amp\n",
    "\n",
    "# using nvidia apex for mixed precision training\n",
    "# if using later pytorch versions, use GradScaler()\n",
    "opt_level = 'O1'\n",
    "net, optimizer = amp.initialize(net, optimizer, opt_level=opt_level)\n",
    "\n",
    "\n",
    "def train_loop(dataloader, net, loss_fn, optimizer):\n",
    "    len_items = len(dataloader.dataset)\n",
    "    idx_st = 0\n",
    "    train1_loss = 0\n",
    "    ar_resps = np.zeros(len_items)\n",
    "    ar_preds = np.zeros(len_items)\n",
    "    for train1, resp in dataloader:\n",
    "        train1 = train1.reshape(train1.shape[0], 4, -1)\n",
    "        resp = resp.reshape(-1, 1)\n",
    "        train1_dev = train1.to(device)\n",
    "        resp_dev = resp.to(device)\n",
    "        optimizer.zero_grad()\n",
    "        pred = net(train1_dev)\n",
    "        loss = loss_fn(pred, resp_dev)\n",
    "        # loss.backward() if no access to amp\n",
    "        with amp.scale_loss(loss, optimizer) as curloss:\n",
    "            curloss.backward()\n",
    "        torch.nn.utils.clip_grad_norm_(\n",
    "           net.parameters(), max_norm=1, norm_type=2)\n",
    "        optimizer.step()\n",
    "        # keep track\n",
    "        idx_end = idx_st + train1.shape[0]\n",
    "        ar_resps[idx_st:idx_end] = resp.detach().numpy().reshape(-1)\n",
    "        ar_preds[idx_st:idx_end] = pred.detach().cpu().numpy().reshape(-1)\n",
    "        train1_loss += loss.item()\n",
    "        del train1_dev, resp_dev, pred\n",
    "        torch.cuda.empty_cache()\n",
    "        idx_st = idx_end\n",
    "    running_loss = train1_loss / len_items\n",
    "    outdf = pd.DataFrame(\n",
    "        {\"MFEs\": ar_resps,\n",
    "         \"Predictions\": ar_preds})\n",
    "    outdf[\"Training.Loss\"] = running_loss\n",
    "    pearson_r, _ = stats.pearsonr(outdf[\"MFEs\"], outdf[\"Predictions\"])\n",
    "    sklearn_r2 = r2_score(outdf[\"MFEs\"], outdf[\"Predictions\"])\n",
    "    outdf[\"Pearson.R\"] = pearson_r\n",
    "    outdf[\"R2\"] = sklearn_r2\n",
    "    return outdf, running_loss, pearson_r, sklearn_r2\n",
    "\n",
    "\n",
    "def pred_loop(dataloader, net, loss_fn):\n",
    "    len_items = len(dataloader.dataset)\n",
    "    idx_st = 0\n",
    "    tune_loss = 0\n",
    "    ar_resps = np.zeros(len_items)\n",
    "    ar_preds = np.zeros(len_items)\n",
    "    for train1, resp in dataloader:\n",
    "        train1 = train1.reshape(train1.shape[0], 4, -1)\n",
    "        resp = resp.reshape(-1, 1)\n",
    "        train1_dev = train1.to(device)\n",
    "        resp_dev = resp.to(device)\n",
    "        pred = net(train1_dev)\n",
    "        loss = loss_fn(pred, resp_dev)\n",
    "        # keep track\n",
    "        idx_end = idx_st + train1.shape[0]\n",
    "        ar_resps[idx_st:idx_end] = resp.detach().numpy().reshape(-1)\n",
    "        ar_preds[idx_st:idx_end] = pred.detach().cpu().numpy().reshape(-1)\n",
    "        tune_loss += loss.item()\n",
    "        del train1_dev, resp_dev, pred\n",
    "        torch.cuda.empty_cache()\n",
    "        idx_st = idx_end\n",
    "    running_loss = tune_loss / len_items\n",
    "    outdf = pd.DataFrame(\n",
    "        {\"MFEs\": ar_resps,\n",
    "         \"Predictions\": ar_preds})\n",
    "    outdf[\"Training.Loss\"] = running_loss\n",
    "    pearson_r, _ = stats.pearsonr(outdf[\"MFEs\"], outdf[\"Predictions\"])\n",
    "    sklearn_r2 = r2_score(outdf[\"MFEs\"], outdf[\"Predictions\"])\n",
    "    outdf[\"Pearson.R\"] = pearson_r\n",
    "    outdf[\"R2\"] = sklearn_r2\n",
    "    return outdf, running_loss, pearson_r, sklearn_r2"
   ]
  },
  {
   "cell_type": "code",
   "execution_count": 10,
   "metadata": {},
   "outputs": [
    {
     "name": "stdout",
     "output_type": "stream",
     "text": [
      "Epoch 0\tTraining loss 0.008\tTuning loss 0.008\tTraining R -0.003\t Tuning R -0.006\n",
      "Gradient overflow.  Skipping step, loss scaler 0 reducing loss scale to 32768.0\n",
      "Gradient overflow.  Skipping step, loss scaler 0 reducing loss scale to 16384.0\n",
      "Gradient overflow.  Skipping step, loss scaler 0 reducing loss scale to 8192.0\n",
      "Gradient overflow.  Skipping step, loss scaler 0 reducing loss scale to 4096.0\n",
      "Gradient overflow.  Skipping step, loss scaler 0 reducing loss scale to 2048.0\n",
      "Epoch 1\tTraining loss 0.002\tTuning loss 0.001\tTraining R 0.663\t Tuning R 0.983\n",
      "Epoch 2\tTraining loss 0.001\tTuning loss 0.001\tTraining R 0.986\t Tuning R 0.99\n",
      "Epoch 3\tTraining loss 0.0\tTuning loss 0.0\tTraining R 0.99\t Tuning R 0.995\n",
      "Epoch 4\tTraining loss 0.0\tTuning loss 0.0\tTraining R 0.993\t Tuning R 0.996\n"
     ]
    }
   ],
   "source": [
    "epoch = 0\n",
    "_, train_loss, train_r, train_r2 = pred_loop(\n",
    "    train_dataloader, net, crit_mse)\n",
    "_, tune_loss, tune_r, tune_r2 = pred_loop(\n",
    "    tune_dataloader, net, crit_mse)\n",
    "adstr = \"Epoch {}\\tTraining loss {}\\tTuning loss {}\\tTraining R {}\\t Tuning R {}\".format(\n",
    "    epoch, round(train_loss, 3), round(tune_loss, 3), round(train_r, 3), round(tune_r, 3))\n",
    "print(adstr)\n",
    "addf = pd.DataFrame(\n",
    "    {\"Epoch\": [epoch, epoch],\n",
    "     \"Loss\": [train_loss, tune_loss],\n",
    "     \"R\": [train_r, tune_r],\n",
    "     \"R2\": [train_r2, tune_r2],\n",
    "     \"Datset\": [\"Training\", \"Tuning\"]})\n",
    "adlist = [addf]\n",
    "for epoch in range(1, MAXEPOCHS):\n",
    "    _, train_loss, train_r, train_r2 = train_loop(\n",
    "        train_dataloader, net, crit_mse, optimizer)\n",
    "    _, tune_loss, tune_r, tune_r2 = pred_loop(\n",
    "        tune_dataloader, net, crit_mse)\n",
    "    adstr = \"Epoch {}\\tTraining loss {}\\tTuning loss {}\\tTraining R {}\\t Tuning R {}\".format(\n",
    "        epoch, round(train_loss, 3), round(tune_loss, 3), round(train_r, 3), round(tune_r, 3))\n",
    "    addf = pd.DataFrame(\n",
    "        {\"Epoch\": [epoch, epoch],\n",
    "         \"Loss\": [train_loss, tune_loss],\n",
    "         \"R\": [train_r, tune_r],\n",
    "         \"R2\": [train_r2, tune_r2],\n",
    "         \"Dataset\": [\"Training\", \"Tuning\"]})\n",
    "    adlist.append(addf)\n",
    "    print(adstr)\n",
    "logdf = pd.concat(adlist)"
   ]
  },
  {
   "cell_type": "code",
   "execution_count": 11,
   "metadata": {},
   "outputs": [],
   "source": [
    "## Obtain predictions for the validation set and plot them\n",
    "## For better generalizability: try more input examples and\n",
    "## using NVIDIA Apex (or GradScaler for later versions of PyTorch)"
   ]
  },
  {
   "cell_type": "code",
   "execution_count": 12,
   "metadata": {},
   "outputs": [],
   "source": [
    "perfdf, valid_loss, valid_r, valid_r2 = pred_loop(validation_dataloader, net, crit_mse)"
   ]
  },
  {
   "cell_type": "code",
   "execution_count": 13,
   "metadata": {},
   "outputs": [
    {
     "data": {
      "text/plain": [
       "<AxesSubplot:xlabel='MFEs', ylabel='Predictions'>"
      ]
     },
     "execution_count": 13,
     "metadata": {},
     "output_type": "execute_result"
    },
    {
     "data": {
      "image/png": "[encoded data removed]",
      "text/plain": [
       "<Figure size 432x288 with 1 Axes>"
      ]
     },
     "metadata": {
      "needs_background": "light"
     },
     "output_type": "display_data"
    }
   ],
   "source": [
    "import seaborn as sns\n",
    "\n",
    "sns.scatterplot(x=\"MFEs\", y=\"Predictions\", data=perfdf)"
   ]
  },
  {
   "cell_type": "code",
   "execution_count": 14,
   "metadata": {},
   "outputs": [
    {
     "data": {
      "text/plain": [
       "<AxesSubplot:xlabel='Epoch', ylabel='Loss'>"
      ]
     },
     "execution_count": 14,
     "metadata": {},
     "output_type": "execute_result"
    },
    {
     "data": {
      "image/png": "[encoded data removed]",
      "text/plain": [
       "<Figure size 432x288 with 1 Axes>"
      ]
     },
     "metadata": {
      "needs_background": "light"
     },
     "output_type": "display_data"
    }
   ],
   "source": [
    "sns.lineplot(x=\"Epoch\", y=\"Loss\", hue=\"Dataset\", data=logdf)"
   ]
  },
  {
   "cell_type": "code",
   "execution_count": null,
   "metadata": {},
   "outputs": [],
   "source": []
  },
  {
   "cell_type": "code",
   "execution_count": null,
   "metadata": {},
   "outputs": [],
   "source": []
  }
 ],
 "metadata": {
  "kernelspec": {
   "display_name": "bio",
   "language": "python",
   "name": "bio"
  },
  "language_info": {
   "codemirror_mode": {
    "name": "ipython",
    "version": 3
   },
   "file_extension": ".py",
   "mimetype": "text/x-python",
   "name": "python",
   "nbconvert_exporter": "python",
   "pygments_lexer": "ipython3",
   "version": "3.6.10"
  }
 },
 "nbformat": 4,
 "nbformat_minor": 2
}
