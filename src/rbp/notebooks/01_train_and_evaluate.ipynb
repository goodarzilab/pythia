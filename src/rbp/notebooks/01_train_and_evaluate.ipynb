{
 "cells": [
  {
   "cell_type": "code",
   "execution_count": 1,
   "metadata": {},
   "outputs": [
    {
     "name": "stderr",
     "output_type": "stream",
     "text": [
      "/Users/mehran/anaconda3/envs/pytorch/lib/python3.10/site-packages/tqdm/auto.py:22: TqdmWarning: IProgress not found. Please update jupyter and ipywidgets. See https://ipywidgets.readthedocs.io/en/stable/user_install.html\n",
      "  from .autonotebook import tqdm as notebook_tqdm\n"
     ]
    }
   ],
   "source": [
    "from train import *\n",
    "import numpy as np"
   ]
  },
  {
   "cell_type": "code",
   "execution_count": 2,
   "metadata": {},
   "outputs": [],
   "source": [
    "# generate random sequences with specific motifs\n",
    "select_motifs = [\n",
    "    \"ATCTATCTCCCAGATAGAT\".replace(\"T\", \"U\"),\n",
    "    \"CGCCATC\".replace(\"T\", \"U\"),\n",
    "    \"CGGGTAATCCCG\".replace(\"T\", \"U\")\n",
    "]\n",
    "\n",
    "num_examples = 1000 # use 10,000 if you have access to GPU\n",
    "np.random.seed(42)\n",
    "alphabet = np.array([\"A\", \"U\", \"C\", \"G\"])\n",
    "out_ar = np.zeros(num_examples, dtype=\"|U48\")\n",
    "motif_pos = np.zeros(num_examples)\n",
    "resp_ar = np.array([\"Bound\"] * num_examples)\n",
    "for i in range(num_examples):\n",
    "    outseq = np.random.choice(alphabet, 48, replace=True)\n",
    "    cur_motif = np.random.choice(select_motifs, 1)\n",
    "    rand_pos = np.random.choice(np.arange(35), 1)[0]\n",
    "    outseq[rand_pos:(rand_pos + len(cur_motif))] = np.array(list(cur_motif))\n",
    "    out_ar[i] = \"\".join(list(outseq))\n",
    "    motif_pos[i] = rand_pos"
   ]
  },
  {
   "cell_type": "code",
   "execution_count": 3,
   "metadata": {},
   "outputs": [],
   "source": [
    "# generate random shuffles\n",
    "num_examples_tune = int(num_examples * 9)\n",
    "try:\n",
    "    import ushuffle\n",
    "    out_ar_neg = np.zeros(num_examples_tune, dtype=\"|U48\")\n",
    "    resp_ar_neg = np.array([\"Unbound\"] * num_examples_tune)\n",
    "    j = 0\n",
    "    for i in range(out_ar.shape[0]):\n",
    "        curseq = out_ar[i].encode()\n",
    "        shuffler = ushuffle.Shuffler(curseq, 2)\n",
    "        for k in range(9):\n",
    "            seqres = shuffler.shuffle()\n",
    "            out_ar_neg[j] = seqres.decode()\n",
    "            j += 1\n",
    "except Exception:\n",
    "    out_ar_neg = np.zeros(num_examples_tune, dtype=\"|U48\")\n",
    "    resp_ar_neg = np.array([\"Unbound\"] * num_examples_tune)\n",
    "    for i in range(out_ar_neg.shape[0]):\n",
    "        outseq = np.random.choice(alphabet, 48, replace=True)\n",
    "        out_ar_neg[i] = \"\".join(list(outseq))"
   ]
  },
  {
   "cell_type": "code",
   "execution_count": 4,
   "metadata": {},
   "outputs": [
    {
     "data": {
      "text/plain": [
       "{'Input': array(['CAUACUUCCUCGAACGCUAGUCCGCCGCCGAAUCAAGCGAUAAUCGGG',\n",
       "        'AGGAACAAGGAUAAAACAGUUACUAGACCCUAACGCUACCGCGGUCCG',\n",
       "        'UUUUCACUUGCCCGUAACGGCCUCUGAUCUGGUUUUGGUAGGAACACA', ...,\n",
       "        'UCUACUUACCUAGUGGCAGCACAGACAUCUUACCGCAGGGAAAUGUAG',\n",
       "        'GAUUCCAUGCAGCGCUGACGCAUCGUUGCGGGCGUUAGCAUCUUGGCU',\n",
       "        'CUGUUGAGUUGUCGCCUGGUUACGCCUCGGGGUUUACUGAAUUGUAGG'], dtype='<U48'),\n",
       " 'Response': array(['Unbound', 'Unbound', 'Unbound', ..., 'Unbound', 'Unbound',\n",
       "        'Unbound'], dtype='<U7'),\n",
       " 'MFEs': array([0., 0., 0., ..., 0., 0., 0.])}"
      ]
     },
     "execution_count": 4,
     "metadata": {},
     "output_type": "execute_result"
    }
   ],
   "source": [
    "seqar = np.concatenate((out_ar, out_ar_neg), axis=0)\n",
    "respar = np.concatenate((resp_ar, resp_ar_neg), axis=0)\n",
    "ar_idxs = np.arange(seqar.shape[0])\n",
    "np.random.shuffle(ar_idxs)\n",
    "dict_data = {\"Input\": seqar[ar_idxs],\n",
    "             \"Response\": respar[ar_idxs],\n",
    "             \"MFEs\": np.zeros(seqar.shape[0])}\n",
    "dict_data"
   ]
  },
  {
   "cell_type": "code",
   "execution_count": 5,
   "metadata": {},
   "outputs": [
    {
     "data": {
      "text/plain": [
       "['notebook_data/example_data.joblib']"
      ]
     },
     "execution_count": 5,
     "metadata": {},
     "output_type": "execute_result"
    }
   ],
   "source": [
    "outdir = \"notebook_data\"\n",
    "os.makedirs(outdir, exist_ok=True)\n",
    "joblibpath = os.path.join(outdir, \"example_data.joblib\")\n",
    "joblib.dump(dict_data, joblibpath, compress=9)"
   ]
  },
  {
   "cell_type": "code",
   "execution_count": 6,
   "metadata": {},
   "outputs": [
    {
     "name": "stdout",
     "output_type": "stream",
     "text": [
      "Splitting Training into 0-6400\n",
      "Splitting Tuning into 6400-8000\n",
      "Splitting Validation into 8000-10000\n"
     ]
    },
    {
     "data": {
      "text/plain": [
       "dict_keys(['Training', 'Tuning', 'Validation'])"
      ]
     },
     "execution_count": 6,
     "metadata": {},
     "output_type": "execute_result"
    }
   ],
   "source": [
    "tensordict = split_dict(joblibpath)\n",
    "tensordict.keys()"
   ]
  },
  {
   "cell_type": "code",
   "execution_count": 7,
   "metadata": {},
   "outputs": [
    {
     "data": {
      "text/plain": [
       "<torch._C.Generator at 0x7fbbda9ee870>"
      ]
     },
     "execution_count": 7,
     "metadata": {},
     "output_type": "execute_result"
    }
   ],
   "source": [
    "tensordict_train = tensordict[\"Training\"]\n",
    "torch.manual_seed(42)"
   ]
  },
  {
   "cell_type": "code",
   "execution_count": 8,
   "metadata": {},
   "outputs": [
    {
     "data": {
      "text/plain": [
       "{'optimizer': 'Adam',\n",
       " 'inputsize': 48,\n",
       " 'lr': 0.001,\n",
       " 'dp': 0.5,\n",
       " 'conv_width': 64,\n",
       " 'kernel': 16,\n",
       " 'dilationTraining': False,\n",
       " 'dil_start': 2,\n",
       " 'dil_end': 16,\n",
       " 'bulge_size': 2,\n",
       " 'binarize_fd': True,\n",
       " 'model_name': 'Pythia',\n",
       " 'DisConvDP': False}"
      ]
     },
     "execution_count": 8,
     "metadata": {},
     "output_type": "execute_result"
    }
   ],
   "source": [
    "# load the model\n",
    "inputsize = 48\n",
    "optim_name = \"Adam\"\n",
    "lr = 0.001\n",
    "kernel_size = 16\n",
    "conv_width = 64\n",
    "dp = 0.5\n",
    "trainable = False  # for the fixed dilated layer\n",
    "dil_start = 2\n",
    "dil_end = 16\n",
    "bulge_size = 2\n",
    "binarize_fd = True\n",
    "model_name = \"Pythia\"\n",
    "disable_conv_dp = False\n",
    "useRegConv = False\n",
    "modelparams = get_model_params(\n",
    "    inputsize, optim_name, lr, kernel_size, conv_width, dp,\n",
    "    trainable, dil_start, dil_end, bulge_size, binarize_fd,\n",
    "    model_name, disable_conv_dp)\n",
    "modelparams"
   ]
  },
  {
   "cell_type": "code",
   "execution_count": 9,
   "metadata": {},
   "outputs": [
    {
     "name": "stdout",
     "output_type": "stream",
     "text": [
      "['notebook_data/pythiaModel_optimizer-Adam_inputsize-48_lr-0.001_dp-0.5_conv_width-64_kernel-16_dilationTraining-False_dil_start-2_dil_end-16_bulge_size-2_binarize_fd-True_model_name-Pythia_DisConvDP-FalselossScale_1_1/checkpoints/pythiaModel_optimizer-Adam_inputsize-48_lr-0.001_dp-0.5_conv_width-64_kernel-16_dilationTraining-False_dil_start-2_dil_end-16_bulge_size-2_binarize_fd-True_model_name-Pythia_DisConvDP-FalselossScale_1_1_0.pt', 'notebook_data/pythiaModel_optimizer-Adam_inputsize-48_lr-0.001_dp-0.5_conv_width-64_kernel-16_dilationTraining-False_dil_start-2_dil_end-16_bulge_size-2_binarize_fd-True_model_name-Pythia_DisConvDP-FalselossScale_1_1/checkpoints/pythiaModel_optimizer-Adam_inputsize-48_lr-0.001_dp-0.5_conv_width-64_kernel-16_dilationTraining-False_dil_start-2_dil_end-16_bulge_size-2_binarize_fd-True_model_name-Pythia_DisConvDP-FalselossScale_1_1_1.pt', 'notebook_data/pythiaModel_optimizer-Adam_inputsize-48_lr-0.001_dp-0.5_conv_width-64_kernel-16_dilationTraining-False_dil_start-2_dil_end-16_bulge_size-2_binarize_fd-True_model_name-Pythia_DisConvDP-FalselossScale_1_1/pythiaModel_optimizer-Adam_inputsize-48_lr-0.001_dp-0.5_conv_width-64_kernel-16_dilationTraining-False_dil_start-2_dil_end-16_bulge_size-2_binarize_fd-True_model_name-Pythia_DisConvDP-FalselossScale_1_1_best.pt', 'notebook_data/pythiaModel_optimizer-Adam_inputsize-48_lr-0.001_dp-0.5_conv_width-64_kernel-16_dilationTraining-False_dil_start-2_dil_end-16_bulge_size-2_binarize_fd-True_model_name-Pythia_DisConvDP-FalselossScale_1_1/pythiaModel_optimizer-Adam_inputsize-48_lr-0.001_dp-0.5_conv_width-64_kernel-16_dilationTraining-False_dil_start-2_dil_end-16_bulge_size-2_binarize_fd-True_model_name-Pythia_DisConvDP-FalselossScale_1_1_latest.pt']\n",
      "Pythia has 419418 learnable parameters\n"
     ]
    }
   ],
   "source": [
    "dictpaths = compile_paths(outdir, modelparams,\n",
    "                          useRegConv=useRegConv)\n",
    "chkpaths = dictpaths[\"chkpaths\"] +\\\n",
    "    [dictpaths[\"bestpath\"], dictpaths[\"modelpath\"]]\n",
    "print(chkpaths)\n",
    "net, optimizer = load_model(\n",
    "    inputsize, outdir, optim_name, lr, chkpaths,\n",
    "    useRegConv, kernel_size, conv_width, dp, trainable,\n",
    "    dil_start, dil_end, bulge_size, binarize_fd, model_name,\n",
    "    disable_conv_dp)"
   ]
  },
  {
   "cell_type": "code",
   "execution_count": 10,
   "metadata": {},
   "outputs": [
    {
     "name": "stdout",
     "output_type": "stream",
     "text": [
      "Splitting Training into 0-6400\n",
      "Splitting Tuning into 6400-8000\n",
      "Splitting Validation into 8000-10000\n",
      "Making notebook_data/pythiaModel_optimizer-Adam_inputsize-48_lr-0.001_dp-0.5_conv_width-64_kernel-16_dilationTraining-False_dil_start-2_dil_end-16_bulge_size-2_binarize_fd-True_model_name-Pythia_DisConvDP-FalselossScale_1_1/2022-09-13_18modelTraining.log\n",
      "Assessing Training\n"
     ]
    },
    {
     "name": "stderr",
     "output_type": "stream",
     "text": [
      "/Users/mehran/Documents/software/pythia/src/rbp/train.py:181: UserWarning: Implicit dimension choice for softmax has been deprecated. Change the call to include dim=X as an argument.\n",
      "  pred_m_soft = nn.functional.softmax(pred_m)\n"
     ]
    },
    {
     "name": "stdout",
     "output_type": "stream",
     "text": [
      "Assessing Tuning\n"
     ]
    },
    {
     "name": "stderr",
     "output_type": "stream",
     "text": [
      "/Users/mehran/Documents/software/pythia/src/rbp/train.py:181: UserWarning: Implicit dimension choice for softmax has been deprecated. Change the call to include dim=X as an argument.\n",
      "  pred_m_soft = nn.functional.softmax(pred_m)\n"
     ]
    },
    {
     "name": "stdout",
     "output_type": "stream",
     "text": [
      "Epoch 0: Loss: 0.7421627336618851\n",
      "Assessing Training\n"
     ]
    },
    {
     "name": "stderr",
     "output_type": "stream",
     "text": [
      "/Users/mehran/Documents/software/pythia/src/rbp/train.py:181: UserWarning: Implicit dimension choice for softmax has been deprecated. Change the call to include dim=X as an argument.\n",
      "  pred_m_soft = nn.functional.softmax(pred_m)\n"
     ]
    },
    {
     "name": "stdout",
     "output_type": "stream",
     "text": [
      "Assessing Tuning\n"
     ]
    },
    {
     "name": "stderr",
     "output_type": "stream",
     "text": [
      "/Users/mehran/Documents/software/pythia/src/rbp/train.py:181: UserWarning: Implicit dimension choice for softmax has been deprecated. Change the call to include dim=X as an argument.\n",
      "  pred_m_soft = nn.functional.softmax(pred_m)\n"
     ]
    },
    {
     "name": "stdout",
     "output_type": "stream",
     "text": [
      "Epoch 1: Loss: 0.6268782481855276\n",
      "Assessing Training\n"
     ]
    },
    {
     "name": "stderr",
     "output_type": "stream",
     "text": [
      "/Users/mehran/Documents/software/pythia/src/rbp/train.py:181: UserWarning: Implicit dimension choice for softmax has been deprecated. Change the call to include dim=X as an argument.\n",
      "  pred_m_soft = nn.functional.softmax(pred_m)\n"
     ]
    },
    {
     "name": "stdout",
     "output_type": "stream",
     "text": [
      "Assessing Tuning\n"
     ]
    },
    {
     "name": "stderr",
     "output_type": "stream",
     "text": [
      "/Users/mehran/Documents/software/pythia/src/rbp/train.py:181: UserWarning: Implicit dimension choice for softmax has been deprecated. Change the call to include dim=X as an argument.\n",
      "  pred_m_soft = nn.functional.softmax(pred_m)\n"
     ]
    },
    {
     "name": "stdout",
     "output_type": "stream",
     "text": [
      "Epoch 2: Loss: 0.44718545952773825\n",
      "Assessing Training\n"
     ]
    },
    {
     "name": "stderr",
     "output_type": "stream",
     "text": [
      "/Users/mehran/Documents/software/pythia/src/rbp/train.py:181: UserWarning: Implicit dimension choice for softmax has been deprecated. Change the call to include dim=X as an argument.\n",
      "  pred_m_soft = nn.functional.softmax(pred_m)\n"
     ]
    },
    {
     "name": "stdout",
     "output_type": "stream",
     "text": [
      "Assessing Tuning\n"
     ]
    },
    {
     "name": "stderr",
     "output_type": "stream",
     "text": [
      "/Users/mehran/Documents/software/pythia/src/rbp/train.py:181: UserWarning: Implicit dimension choice for softmax has been deprecated. Change the call to include dim=X as an argument.\n",
      "  pred_m_soft = nn.functional.softmax(pred_m)\n"
     ]
    },
    {
     "name": "stdout",
     "output_type": "stream",
     "text": [
      "Epoch 3: Loss: 0.33963336212066364\n",
      "Assessing Training\n"
     ]
    },
    {
     "name": "stderr",
     "output_type": "stream",
     "text": [
      "/Users/mehran/Documents/software/pythia/src/rbp/train.py:181: UserWarning: Implicit dimension choice for softmax has been deprecated. Change the call to include dim=X as an argument.\n",
      "  pred_m_soft = nn.functional.softmax(pred_m)\n"
     ]
    },
    {
     "name": "stdout",
     "output_type": "stream",
     "text": [
      "Assessing Tuning\n"
     ]
    },
    {
     "name": "stderr",
     "output_type": "stream",
     "text": [
      "/Users/mehran/Documents/software/pythia/src/rbp/train.py:181: UserWarning: Implicit dimension choice for softmax has been deprecated. Change the call to include dim=X as an argument.\n",
      "  pred_m_soft = nn.functional.softmax(pred_m)\n"
     ]
    },
    {
     "name": "stdout",
     "output_type": "stream",
     "text": [
      "Epoch 4: Loss: 0.1272661273690815\n",
      "Assessing Training\n"
     ]
    },
    {
     "name": "stderr",
     "output_type": "stream",
     "text": [
      "/Users/mehran/Documents/software/pythia/src/rbp/train.py:181: UserWarning: Implicit dimension choice for softmax has been deprecated. Change the call to include dim=X as an argument.\n",
      "  pred_m_soft = nn.functional.softmax(pred_m)\n"
     ]
    },
    {
     "name": "stdout",
     "output_type": "stream",
     "text": [
      "Assessing Tuning\n"
     ]
    },
    {
     "name": "stderr",
     "output_type": "stream",
     "text": [
      "/Users/mehran/Documents/software/pythia/src/rbp/train.py:181: UserWarning: Implicit dimension choice for softmax has been deprecated. Change the call to include dim=X as an argument.\n",
      "  pred_m_soft = nn.functional.softmax(pred_m)\n"
     ]
    },
    {
     "name": "stdout",
     "output_type": "stream",
     "text": [
      "Epoch 5: Loss: 0.11061246994863816\n",
      "Assessing Training\n"
     ]
    },
    {
     "name": "stderr",
     "output_type": "stream",
     "text": [
      "/Users/mehran/Documents/software/pythia/src/rbp/train.py:181: UserWarning: Implicit dimension choice for softmax has been deprecated. Change the call to include dim=X as an argument.\n",
      "  pred_m_soft = nn.functional.softmax(pred_m)\n"
     ]
    },
    {
     "name": "stdout",
     "output_type": "stream",
     "text": [
      "Assessing Tuning\n"
     ]
    },
    {
     "name": "stderr",
     "output_type": "stream",
     "text": [
      "/Users/mehran/Documents/software/pythia/src/rbp/train.py:181: UserWarning: Implicit dimension choice for softmax has been deprecated. Change the call to include dim=X as an argument.\n",
      "  pred_m_soft = nn.functional.softmax(pred_m)\n"
     ]
    },
    {
     "name": "stdout",
     "output_type": "stream",
     "text": [
      "Epoch 6: Loss: 0.055811670539919665\n",
      "Assessing Training\n"
     ]
    },
    {
     "name": "stderr",
     "output_type": "stream",
     "text": [
      "/Users/mehran/Documents/software/pythia/src/rbp/train.py:181: UserWarning: Implicit dimension choice for softmax has been deprecated. Change the call to include dim=X as an argument.\n",
      "  pred_m_soft = nn.functional.softmax(pred_m)\n"
     ]
    },
    {
     "name": "stdout",
     "output_type": "stream",
     "text": [
      "Assessing Tuning\n"
     ]
    },
    {
     "name": "stderr",
     "output_type": "stream",
     "text": [
      "/Users/mehran/Documents/software/pythia/src/rbp/train.py:181: UserWarning: Implicit dimension choice for softmax has been deprecated. Change the call to include dim=X as an argument.\n",
      "  pred_m_soft = nn.functional.softmax(pred_m)\n"
     ]
    },
    {
     "name": "stdout",
     "output_type": "stream",
     "text": [
      "Epoch 7: Loss: 0.023107626456387188\n",
      "Assessing Training\n"
     ]
    },
    {
     "name": "stderr",
     "output_type": "stream",
     "text": [
      "/Users/mehran/Documents/software/pythia/src/rbp/train.py:181: UserWarning: Implicit dimension choice for softmax has been deprecated. Change the call to include dim=X as an argument.\n",
      "  pred_m_soft = nn.functional.softmax(pred_m)\n"
     ]
    },
    {
     "name": "stdout",
     "output_type": "stream",
     "text": [
      "Assessing Tuning\n"
     ]
    },
    {
     "name": "stderr",
     "output_type": "stream",
     "text": [
      "/Users/mehran/Documents/software/pythia/src/rbp/train.py:181: UserWarning: Implicit dimension choice for softmax has been deprecated. Change the call to include dim=X as an argument.\n",
      "  pred_m_soft = nn.functional.softmax(pred_m)\n"
     ]
    },
    {
     "name": "stdout",
     "output_type": "stream",
     "text": [
      "Epoch 8: Loss: 0.049853241391841094\n",
      "Assessing Training\n"
     ]
    },
    {
     "name": "stderr",
     "output_type": "stream",
     "text": [
      "/Users/mehran/Documents/software/pythia/src/rbp/train.py:181: UserWarning: Implicit dimension choice for softmax has been deprecated. Change the call to include dim=X as an argument.\n",
      "  pred_m_soft = nn.functional.softmax(pred_m)\n"
     ]
    },
    {
     "name": "stdout",
     "output_type": "stream",
     "text": [
      "Assessing Tuning\n"
     ]
    },
    {
     "name": "stderr",
     "output_type": "stream",
     "text": [
      "/Users/mehran/Documents/software/pythia/src/rbp/train.py:181: UserWarning: Implicit dimension choice for softmax has been deprecated. Change the call to include dim=X as an argument.\n",
      "  pred_m_soft = nn.functional.softmax(pred_m)\n"
     ]
    },
    {
     "name": "stdout",
     "output_type": "stream",
     "text": [
      "Epoch 9: Loss: 0.10818328354175069\n",
      "Assessing Training\n"
     ]
    },
    {
     "name": "stderr",
     "output_type": "stream",
     "text": [
      "/Users/mehran/Documents/software/pythia/src/rbp/train.py:181: UserWarning: Implicit dimension choice for softmax has been deprecated. Change the call to include dim=X as an argument.\n",
      "  pred_m_soft = nn.functional.softmax(pred_m)\n"
     ]
    },
    {
     "name": "stdout",
     "output_type": "stream",
     "text": [
      "Assessing Tuning\n"
     ]
    },
    {
     "name": "stderr",
     "output_type": "stream",
     "text": [
      "/Users/mehran/Documents/software/pythia/src/rbp/train.py:181: UserWarning: Implicit dimension choice for softmax has been deprecated. Change the call to include dim=X as an argument.\n",
      "  pred_m_soft = nn.functional.softmax(pred_m)\n"
     ]
    },
    {
     "data": {
      "image/png": "[encoded data removed]",
      "text/plain": [
       "<Figure size 795.625x360 with 2 Axes>"
      ]
     },
     "metadata": {
      "needs_background": "light"
     },
     "output_type": "display_data"
    },
    {
     "data": {
      "image/png": "[encoded data removed]",
      "text/plain": [
       "<Figure size 795.625x360 with 2 Axes>"
      ]
     },
     "metadata": {
      "needs_background": "light"
     },
     "output_type": "display_data"
    }
   ],
   "source": [
    "train_model(joblibpath, dictpaths, net, optimizer, model_name=model_name, MAXEPOCHS=10)"
   ]
  },
  {
   "cell_type": "code",
   "execution_count": 11,
   "metadata": {},
   "outputs": [],
   "source": [
    "from predict import *"
   ]
  },
  {
   "cell_type": "code",
   "execution_count": 12,
   "metadata": {},
   "outputs": [
    {
     "name": "stdout",
     "output_type": "stream",
     "text": [
      "Splitting Training into 0-6400\n",
      "Splitting Tuning into 6400-8000\n",
      "Splitting Validation into 8000-10000\n"
     ]
    },
    {
     "name": "stderr",
     "output_type": "stream",
     "text": [
      "/Users/mehran/Documents/software/pythia/src/rbp/predict.py:250: UserWarning: Implicit dimension choice for softmax has been deprecated. Change the call to include dim=X as an argument.\n",
      "  pred_m_soft = nn.functional.softmax(pred_m)\n"
     ]
    },
    {
     "name": "stdout",
     "output_type": "stream",
     "text": [
      "notebook_data/model_performance.tsv.gz\n"
     ]
    }
   ],
   "source": [
    "net.eval()\n",
    "outpath = os.path.join(outdir, \"model_performance.tsv.gz\")\n",
    "apply_model(\n",
    "        joblibpath, net, outpath, model_name=model_name)"
   ]
  },
  {
   "cell_type": "code",
   "execution_count": null,
   "metadata": {},
   "outputs": [],
   "source": [
    "# look into the output directory and examine the log file and model_performance.tsv.gz file"
   ]
  }
 ],
 "metadata": {
  "kernelspec": {
   "display_name": "pytorch",
   "language": "python",
   "name": "pytorch"
  },
  "language_info": {
   "codemirror_mode": {
    "name": "ipython",
    "version": 3
   },
   "file_extension": ".py",
   "mimetype": "text/x-python",
   "name": "python",
   "nbconvert_exporter": "python",
   "pygments_lexer": "ipython3",
   "version": "3.10.4"
  }
 },
 "nbformat": 4,
 "nbformat_minor": 2
}
