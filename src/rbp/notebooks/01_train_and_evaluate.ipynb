{
 "cells": [
  {
   "cell_type": "code",
   "execution_count": 1,
   "metadata": {},
   "outputs": [],
   "source": [
    "from train import *\n",
    "import numpy as np\n",
    "\n",
    "# The script requires pytorch 1.4.0 and nvidia apex\n",
    "# if using later pytorch versions, modify the training scripts and use GradScaler"
   ]
  },
  {
   "cell_type": "code",
   "execution_count": 2,
   "metadata": {},
   "outputs": [],
   "source": [
    "# generate random sequences with specific motifs\n",
    "select_motifs = [\n",
    "    \"ATCTATCTCCCAGATAGAT\".replace(\"T\", \"U\"),\n",
    "    \"CGCCATC\".replace(\"T\", \"U\"),\n",
    "    \"CGGGTAATCCCG\".replace(\"T\", \"U\")\n",
    "]\n",
    "\n",
    "num_examples = 5000 # If access to GPU, use > 5000, otherwise < 1000\n",
    "np.random.seed(42)\n",
    "alphabet = np.array([\"A\", \"U\", \"C\", \"G\"])\n",
    "out_ar = np.zeros(num_examples, dtype=\"|U48\")\n",
    "motif_pos = np.zeros(num_examples)\n",
    "resp_ar = np.array([\"Bound\"] * num_examples)\n",
    "for i in range(num_examples):\n",
    "    outseq = np.random.choice(alphabet, 48, replace=True)\n",
    "    cur_motif = np.random.choice(select_motifs, 1)[0]\n",
    "    rand_pos = np.random.choice(np.arange(25, 30), 1)[0]\n",
    "    outseq[rand_pos:(rand_pos + len(cur_motif))] = list(cur_motif)\n",
    "    out_ar[i] = \"\".join(list(outseq))\n",
    "    motif_pos[i] = rand_pos"
   ]
  },
  {
   "cell_type": "code",
   "execution_count": 3,
   "metadata": {},
   "outputs": [],
   "source": [
    "# generate random shuffles\n",
    "num_examples_tune = int(num_examples * 9)\n",
    "try:\n",
    "    import ushuffle\n",
    "    out_ar_neg = np.zeros(num_examples_tune, dtype=\"|U48\")\n",
    "    resp_ar_neg = np.array([\"Unbound\"] * num_examples_tune)\n",
    "    j = 0\n",
    "    for i in range(out_ar.shape[0]):\n",
    "        curseq = out_ar[i].encode()\n",
    "        shuffler = ushuffle.Shuffler(curseq, 2)\n",
    "        for k in range(9):\n",
    "            seqres = shuffler.shuffle()\n",
    "            out_ar_neg[j] = seqres.decode()\n",
    "            j += 1\n",
    "except Exception:\n",
    "    out_ar_neg = np.zeros(num_examples_tune, dtype=\"|U48\")\n",
    "    resp_ar_neg = np.array([\"Unbound\"] * num_examples_tune)\n",
    "    for i in range(out_ar_neg.shape[0]):\n",
    "        outseq = np.random.choice(alphabet, 48, replace=True)\n",
    "        out_ar_neg[i] = \"\".join(list(outseq))"
   ]
  },
  {
   "cell_type": "code",
   "execution_count": 4,
   "metadata": {},
   "outputs": [
    {
     "data": {
      "text/plain": [
       "{'Input': array(['UGGACCCCUCUAAGCCAGACAUGAGUUCGGUUCCCGGAGAUCCUAUAU',\n",
       "        'GAAGCGCCCGAGAACCUACGUUGUAUAGCUCCCAUAUUGGCGAUGGGU',\n",
       "        'AUACUAGGGGUCCGUCCCGGGGACCUUCCUUUCGUAACCCGAGUGGUA', ...,\n",
       "        'CAUUUUUUCUCAUCGUACUACUGUAAGGGUCGUUCCCUACUAUCGGUU',\n",
       "        'UCCCUCGGGGGUCGGCGUUAGUUAAUCGCCCUGACGGAAACAAGUAGA',\n",
       "        'CUGCUAGCCAUCAGCGCCAACUAGGCAUCACCAGGCGUUACCGGGGGC'], dtype='<U48'),\n",
       " 'Response': array(['Unbound', 'Unbound', 'Unbound', ..., 'Unbound', 'Unbound',\n",
       "        'Unbound'], dtype='<U7'),\n",
       " 'MFEs': array([0., 0., 0., ..., 0., 0., 0.])}"
      ]
     },
     "execution_count": 4,
     "metadata": {},
     "output_type": "execute_result"
    }
   ],
   "source": [
    "seqar = np.concatenate((out_ar, out_ar_neg), axis=0)\n",
    "respar = np.concatenate((resp_ar, resp_ar_neg), axis=0)\n",
    "ar_idxs = np.arange(seqar.shape[0])\n",
    "np.random.shuffle(ar_idxs)\n",
    "dict_data = {\"Input\": seqar[ar_idxs],\n",
    "             \"Response\": respar[ar_idxs],\n",
    "             \"MFEs\": np.zeros(seqar.shape[0])}\n",
    "dict_data"
   ]
  },
  {
   "cell_type": "code",
   "execution_count": 5,
   "metadata": {},
   "outputs": [
    {
     "data": {
      "text/plain": [
       "['notebook_data/example_data.joblib']"
      ]
     },
     "execution_count": 5,
     "metadata": {},
     "output_type": "execute_result"
    }
   ],
   "source": [
    "outdir = \"notebook_data\"\n",
    "os.makedirs(outdir, exist_ok=True)\n",
    "joblibpath = os.path.join(outdir, \"example_data.joblib\")\n",
    "joblib.dump(dict_data, joblibpath, compress=9)"
   ]
  },
  {
   "cell_type": "code",
   "execution_count": 6,
   "metadata": {},
   "outputs": [
    {
     "name": "stdout",
     "output_type": "stream",
     "text": [
      "Splitting Training into 0-32000\n",
      "Splitting Tuning into 32000-40000\n",
      "Splitting Validation into 40000-50000\n"
     ]
    },
    {
     "data": {
      "text/plain": [
       "dict_keys(['Training', 'Tuning', 'Validation'])"
      ]
     },
     "execution_count": 6,
     "metadata": {},
     "output_type": "execute_result"
    }
   ],
   "source": [
    "tensordict = split_dict(joblibpath)\n",
    "tensordict.keys()"
   ]
  },
  {
   "cell_type": "code",
   "execution_count": 7,
   "metadata": {},
   "outputs": [
    {
     "data": {
      "text/plain": [
       "<torch._C.Generator at 0x7f6f84f9ac30>"
      ]
     },
     "execution_count": 7,
     "metadata": {},
     "output_type": "execute_result"
    }
   ],
   "source": [
    "tensordict_train = tensordict[\"Training\"]\n",
    "torch.manual_seed(42)"
   ]
  },
  {
   "cell_type": "code",
   "execution_count": 8,
   "metadata": {},
   "outputs": [
    {
     "data": {
      "text/plain": [
       "{'optimizer': 'Adam',\n",
       " 'inputsize': 48,\n",
       " 'lr': 0.004,\n",
       " 'dp': 0.5,\n",
       " 'conv_width': 64,\n",
       " 'kernel': 16,\n",
       " 'dilationTraining': False,\n",
       " 'dil_start': 2,\n",
       " 'dil_end': 24,\n",
       " 'bulge_size': 2,\n",
       " 'binarize_fd': True,\n",
       " 'model_name': 'Pythia',\n",
       " 'DisConvDP': False}"
      ]
     },
     "execution_count": 8,
     "metadata": {},
     "output_type": "execute_result"
    }
   ],
   "source": [
    "# load the model\n",
    "inputsize = 48\n",
    "optim_name = \"Adam\"\n",
    "lr = 0.004\n",
    "kernel_size = 16\n",
    "conv_width = 64\n",
    "dp = 0.5\n",
    "trainable = False  # for the fixed dilated layer\n",
    "dil_start = 2\n",
    "dil_end = 24\n",
    "bulge_size = 2\n",
    "binarize_fd = True\n",
    "model_name = \"Pythia\"\n",
    "disable_conv_dp = False\n",
    "useRegConv = False\n",
    "modelparams = get_model_params(\n",
    "    inputsize, optim_name, lr, kernel_size, conv_width, dp,\n",
    "    trainable, dil_start, dil_end, bulge_size, binarize_fd,\n",
    "    model_name, disable_conv_dp)\n",
    "modelparams"
   ]
  },
  {
   "cell_type": "code",
   "execution_count": 9,
   "metadata": {},
   "outputs": [
    {
     "name": "stdout",
     "output_type": "stream",
     "text": [
      "['/checkpoint/mkarimza/8572390/pythiaModel_optimizer-Adam_inputsize-48_lr-0.004_dp-0.5_conv_width-64_kernel-16_dilationTraining-False_dil_start-2_dil_end-24_bulge_size-2_binarize_fd-True_model_name-Pythia_DisConvDP-FalselossScale_1_1_0.pt', '/checkpoint/mkarimza/8572390/pythiaModel_optimizer-Adam_inputsize-48_lr-0.004_dp-0.5_conv_width-64_kernel-16_dilationTraining-False_dil_start-2_dil_end-24_bulge_size-2_binarize_fd-True_model_name-Pythia_DisConvDP-FalselossScale_1_1_1.pt', 'notebook_data/pythiaModel_optimizer-Adam_inputsize-48_lr-0.004_dp-0.5_conv_width-64_kernel-16_dilationTraining-False_dil_start-2_dil_end-24_bulge_size-2_binarize_fd-True_model_name-Pythia_DisConvDP-FalselossScale_1_1/pythiaModel_optimizer-Adam_inputsize-48_lr-0.004_dp-0.5_conv_width-64_kernel-16_dilationTraining-False_dil_start-2_dil_end-24_bulge_size-2_binarize_fd-True_model_name-Pythia_DisConvDP-FalselossScale_1_1_best.pt', 'notebook_data/pythiaModel_optimizer-Adam_inputsize-48_lr-0.004_dp-0.5_conv_width-64_kernel-16_dilationTraining-False_dil_start-2_dil_end-24_bulge_size-2_binarize_fd-True_model_name-Pythia_DisConvDP-FalselossScale_1_1/pythiaModel_optimizer-Adam_inputsize-48_lr-0.004_dp-0.5_conv_width-64_kernel-16_dilationTraining-False_dil_start-2_dil_end-24_bulge_size-2_binarize_fd-True_model_name-Pythia_DisConvDP-FalselossScale_1_1_latest.pt']\n",
      "Pythia has 542298 learnable parameters\n",
      "Selected optimization level O1:  Insert automatic casts around Pytorch functions and Tensor methods.\n",
      "\n",
      "Defaults for this optimization level are:\n",
      "enabled                : True\n",
      "opt_level              : O1\n",
      "cast_model_type        : None\n",
      "patch_torch_functions  : True\n",
      "keep_batchnorm_fp32    : None\n",
      "master_weights         : None\n",
      "loss_scale             : dynamic\n",
      "Processing user overrides (additional kwargs that are not None)...\n",
      "After processing overrides, optimization options are:\n",
      "enabled                : True\n",
      "opt_level              : O1\n",
      "cast_model_type        : None\n",
      "patch_torch_functions  : True\n",
      "keep_batchnorm_fp32    : None\n",
      "master_weights         : None\n",
      "loss_scale             : dynamic\n"
     ]
    }
   ],
   "source": [
    "dictpaths = compile_paths(outdir, modelparams,\n",
    "                          useRegConv=useRegConv)\n",
    "chkpaths = dictpaths[\"chkpaths\"] +\\\n",
    "    [dictpaths[\"bestpath\"], dictpaths[\"modelpath\"]]\n",
    "print(chkpaths)\n",
    "net, optimizer = load_model(\n",
    "    inputsize, outdir, optim_name, lr, chkpaths,\n",
    "    useRegConv, kernel_size, conv_width, dp, trainable,\n",
    "    dil_start, dil_end, bulge_size, binarize_fd, model_name,\n",
    "    disable_conv_dp)"
   ]
  },
  {
   "cell_type": "code",
   "execution_count": 10,
   "metadata": {},
   "outputs": [
    {
     "name": "stdout",
     "output_type": "stream",
     "text": [
      "Splitting Training into 0-32000\n",
      "Splitting Tuning into 32000-40000\n",
      "Splitting Validation into 40000-50000\n",
      "Making notebook_data/pythiaModel_optimizer-Adam_inputsize-48_lr-0.004_dp-0.5_conv_width-64_kernel-16_dilationTraining-False_dil_start-2_dil_end-24_bulge_size-2_binarize_fd-True_model_name-Pythia_DisConvDP-FalselossScale_1_1/2022-09-20_10modelTraining.log\n",
      "Assessing Training\n"
     ]
    },
    {
     "name": "stderr",
     "output_type": "stream",
     "text": [
      "/pkgs/pytorch-1.4-cuda10.1-conda-python3.6/apex/amp/wrap.py:28: UserWarning: Implicit dimension choice for softmax has been deprecated. Change the call to include dim=X as an argument.\n",
      "  return orig_fn(*new_args, **kwargs)\n"
     ]
    },
    {
     "name": "stdout",
     "output_type": "stream",
     "text": [
      "Assessing Tuning\n"
     ]
    },
    {
     "name": "stderr",
     "output_type": "stream",
     "text": [
      "/pkgs/pytorch-1.4-cuda10.1-conda-python3.6/apex/amp/wrap.py:28: UserWarning: Implicit dimension choice for softmax has been deprecated. Change the call to include dim=X as an argument.\n",
      "  return orig_fn(*new_args, **kwargs)\n"
     ]
    },
    {
     "name": "stdout",
     "output_type": "stream",
     "text": [
      "Gradient overflow.  Skipping step, loss scaler 0 reducing loss scale to 32768.0\n",
      "Gradient overflow.  Skipping step, loss scaler 0 reducing loss scale to 16384.0\n",
      "Gradient overflow.  Skipping step, loss scaler 0 reducing loss scale to 8192.0\n",
      "Gradient overflow.  Skipping step, loss scaler 0 reducing loss scale to 4096.0\n",
      "Gradient overflow.  Skipping step, loss scaler 0 reducing loss scale to 2048.0\n",
      "Assessing Training\n"
     ]
    },
    {
     "name": "stderr",
     "output_type": "stream",
     "text": [
      "/pkgs/pytorch-1.4-cuda10.1-conda-python3.6/apex/amp/wrap.py:28: UserWarning: Implicit dimension choice for softmax has been deprecated. Change the call to include dim=X as an argument.\n",
      "  return orig_fn(*new_args, **kwargs)\n"
     ]
    },
    {
     "name": "stdout",
     "output_type": "stream",
     "text": [
      "Assessing Tuning\n"
     ]
    },
    {
     "name": "stderr",
     "output_type": "stream",
     "text": [
      "/pkgs/pytorch-1.4-cuda10.1-conda-python3.6/apex/amp/wrap.py:28: UserWarning: Implicit dimension choice for softmax has been deprecated. Change the call to include dim=X as an argument.\n",
      "  return orig_fn(*new_args, **kwargs)\n"
     ]
    },
    {
     "name": "stdout",
     "output_type": "stream",
     "text": [
      "Epoch 0: Training Loss: 1.152257839591838 Tuning loss: 0.0118\n",
      "Assessing Training\n"
     ]
    },
    {
     "name": "stderr",
     "output_type": "stream",
     "text": [
      "/pkgs/pytorch-1.4-cuda10.1-conda-python3.6/apex/amp/wrap.py:28: UserWarning: Implicit dimension choice for softmax has been deprecated. Change the call to include dim=X as an argument.\n",
      "  return orig_fn(*new_args, **kwargs)\n"
     ]
    },
    {
     "name": "stdout",
     "output_type": "stream",
     "text": [
      "Assessing Tuning\n"
     ]
    },
    {
     "name": "stderr",
     "output_type": "stream",
     "text": [
      "/pkgs/pytorch-1.4-cuda10.1-conda-python3.6/apex/amp/wrap.py:28: UserWarning: Implicit dimension choice for softmax has been deprecated. Change the call to include dim=X as an argument.\n",
      "  return orig_fn(*new_args, **kwargs)\n"
     ]
    },
    {
     "name": "stdout",
     "output_type": "stream",
     "text": [
      "Epoch 1: Training Loss: 0.01763018455593007 Tuning loss: 0.0101\n",
      "Assessing Training\n"
     ]
    },
    {
     "name": "stderr",
     "output_type": "stream",
     "text": [
      "/pkgs/pytorch-1.4-cuda10.1-conda-python3.6/apex/amp/wrap.py:28: UserWarning: Implicit dimension choice for softmax has been deprecated. Change the call to include dim=X as an argument.\n",
      "  return orig_fn(*new_args, **kwargs)\n"
     ]
    },
    {
     "name": "stdout",
     "output_type": "stream",
     "text": [
      "Assessing Tuning\n"
     ]
    },
    {
     "name": "stderr",
     "output_type": "stream",
     "text": [
      "/pkgs/pytorch-1.4-cuda10.1-conda-python3.6/apex/amp/wrap.py:28: UserWarning: Implicit dimension choice for softmax has been deprecated. Change the call to include dim=X as an argument.\n",
      "  return orig_fn(*new_args, **kwargs)\n"
     ]
    },
    {
     "name": "stdout",
     "output_type": "stream",
     "text": [
      "Epoch 2: Training Loss: 0.015293013785877952 Tuning loss: 0.0729\n",
      "Assessing Training\n"
     ]
    },
    {
     "name": "stderr",
     "output_type": "stream",
     "text": [
      "/pkgs/pytorch-1.4-cuda10.1-conda-python3.6/apex/amp/wrap.py:28: UserWarning: Implicit dimension choice for softmax has been deprecated. Change the call to include dim=X as an argument.\n",
      "  return orig_fn(*new_args, **kwargs)\n"
     ]
    },
    {
     "name": "stdout",
     "output_type": "stream",
     "text": [
      "Assessing Tuning\n"
     ]
    },
    {
     "name": "stderr",
     "output_type": "stream",
     "text": [
      "/pkgs/pytorch-1.4-cuda10.1-conda-python3.6/apex/amp/wrap.py:28: UserWarning: Implicit dimension choice for softmax has been deprecated. Change the call to include dim=X as an argument.\n",
      "  return orig_fn(*new_args, **kwargs)\n"
     ]
    },
    {
     "name": "stdout",
     "output_type": "stream",
     "text": [
      "Epoch 3: Training Loss: 0.005360491478268905 Tuning loss: 0.0376\n",
      "Assessing Training\n"
     ]
    },
    {
     "name": "stderr",
     "output_type": "stream",
     "text": [
      "/pkgs/pytorch-1.4-cuda10.1-conda-python3.6/apex/amp/wrap.py:28: UserWarning: Implicit dimension choice for softmax has been deprecated. Change the call to include dim=X as an argument.\n",
      "  return orig_fn(*new_args, **kwargs)\n"
     ]
    },
    {
     "name": "stdout",
     "output_type": "stream",
     "text": [
      "Assessing Tuning\n"
     ]
    },
    {
     "name": "stderr",
     "output_type": "stream",
     "text": [
      "/pkgs/pytorch-1.4-cuda10.1-conda-python3.6/apex/amp/wrap.py:28: UserWarning: Implicit dimension choice for softmax has been deprecated. Change the call to include dim=X as an argument.\n",
      "  return orig_fn(*new_args, **kwargs)\n"
     ]
    },
    {
     "name": "stdout",
     "output_type": "stream",
     "text": [
      "Epoch 4: Training Loss: 0.00237875124459278 Tuning loss: 0.011\n",
      "Assessing Training\n"
     ]
    },
    {
     "name": "stderr",
     "output_type": "stream",
     "text": [
      "/pkgs/pytorch-1.4-cuda10.1-conda-python3.6/apex/amp/wrap.py:28: UserWarning: Implicit dimension choice for softmax has been deprecated. Change the call to include dim=X as an argument.\n",
      "  return orig_fn(*new_args, **kwargs)\n"
     ]
    },
    {
     "name": "stdout",
     "output_type": "stream",
     "text": [
      "Assessing Tuning\n"
     ]
    },
    {
     "name": "stderr",
     "output_type": "stream",
     "text": [
      "/pkgs/pytorch-1.4-cuda10.1-conda-python3.6/apex/amp/wrap.py:28: UserWarning: Implicit dimension choice for softmax has been deprecated. Change the call to include dim=X as an argument.\n",
      "  return orig_fn(*new_args, **kwargs)\n"
     ]
    },
    {
     "name": "stdout",
     "output_type": "stream",
     "text": [
      "Epoch 5: Training Loss: 0.0019165080135042176 Tuning loss: 0.0149\n",
      "Assessing Training\n"
     ]
    },
    {
     "name": "stderr",
     "output_type": "stream",
     "text": [
      "/pkgs/pytorch-1.4-cuda10.1-conda-python3.6/apex/amp/wrap.py:28: UserWarning: Implicit dimension choice for softmax has been deprecated. Change the call to include dim=X as an argument.\n",
      "  return orig_fn(*new_args, **kwargs)\n"
     ]
    },
    {
     "name": "stdout",
     "output_type": "stream",
     "text": [
      "Assessing Tuning\n"
     ]
    },
    {
     "name": "stderr",
     "output_type": "stream",
     "text": [
      "/pkgs/pytorch-1.4-cuda10.1-conda-python3.6/apex/amp/wrap.py:28: UserWarning: Implicit dimension choice for softmax has been deprecated. Change the call to include dim=X as an argument.\n",
      "  return orig_fn(*new_args, **kwargs)\n"
     ]
    },
    {
     "name": "stdout",
     "output_type": "stream",
     "text": [
      "Epoch 6: Training Loss: 0.00046108087849088556 Tuning loss: 0.0125\n",
      "Assessing Training\n"
     ]
    },
    {
     "name": "stderr",
     "output_type": "stream",
     "text": [
      "/pkgs/pytorch-1.4-cuda10.1-conda-python3.6/apex/amp/wrap.py:28: UserWarning: Implicit dimension choice for softmax has been deprecated. Change the call to include dim=X as an argument.\n",
      "  return orig_fn(*new_args, **kwargs)\n"
     ]
    },
    {
     "name": "stdout",
     "output_type": "stream",
     "text": [
      "Assessing Tuning\n"
     ]
    },
    {
     "name": "stderr",
     "output_type": "stream",
     "text": [
      "/pkgs/pytorch-1.4-cuda10.1-conda-python3.6/apex/amp/wrap.py:28: UserWarning: Implicit dimension choice for softmax has been deprecated. Change the call to include dim=X as an argument.\n",
      "  return orig_fn(*new_args, **kwargs)\n"
     ]
    },
    {
     "name": "stdout",
     "output_type": "stream",
     "text": [
      "Epoch 7: Training Loss: 5.6373294571175555e-05 Tuning loss: 0.0144\n",
      "Assessing Training\n"
     ]
    },
    {
     "name": "stderr",
     "output_type": "stream",
     "text": [
      "/pkgs/pytorch-1.4-cuda10.1-conda-python3.6/apex/amp/wrap.py:28: UserWarning: Implicit dimension choice for softmax has been deprecated. Change the call to include dim=X as an argument.\n",
      "  return orig_fn(*new_args, **kwargs)\n"
     ]
    },
    {
     "name": "stdout",
     "output_type": "stream",
     "text": [
      "Assessing Tuning\n"
     ]
    },
    {
     "name": "stderr",
     "output_type": "stream",
     "text": [
      "/pkgs/pytorch-1.4-cuda10.1-conda-python3.6/apex/amp/wrap.py:28: UserWarning: Implicit dimension choice for softmax has been deprecated. Change the call to include dim=X as an argument.\n",
      "  return orig_fn(*new_args, **kwargs)\n"
     ]
    },
    {
     "name": "stdout",
     "output_type": "stream",
     "text": [
      "Epoch 8: Training Loss: 1.494900023123487e-05 Tuning loss: 0.0139\n",
      "Assessing Training\n"
     ]
    },
    {
     "name": "stderr",
     "output_type": "stream",
     "text": [
      "/pkgs/pytorch-1.4-cuda10.1-conda-python3.6/apex/amp/wrap.py:28: UserWarning: Implicit dimension choice for softmax has been deprecated. Change the call to include dim=X as an argument.\n",
      "  return orig_fn(*new_args, **kwargs)\n"
     ]
    },
    {
     "name": "stdout",
     "output_type": "stream",
     "text": [
      "Assessing Tuning\n"
     ]
    },
    {
     "name": "stderr",
     "output_type": "stream",
     "text": [
      "/pkgs/pytorch-1.4-cuda10.1-conda-python3.6/apex/amp/wrap.py:28: UserWarning: Implicit dimension choice for softmax has been deprecated. Change the call to include dim=X as an argument.\n",
      "  return orig_fn(*new_args, **kwargs)\n"
     ]
    },
    {
     "name": "stdout",
     "output_type": "stream",
     "text": [
      "Epoch 9: Training Loss: 1.1079244042447812e-05 Tuning loss: 0.0138\n",
      "Assessing Training\n"
     ]
    },
    {
     "name": "stderr",
     "output_type": "stream",
     "text": [
      "/pkgs/pytorch-1.4-cuda10.1-conda-python3.6/apex/amp/wrap.py:28: UserWarning: Implicit dimension choice for softmax has been deprecated. Change the call to include dim=X as an argument.\n",
      "  return orig_fn(*new_args, **kwargs)\n"
     ]
    },
    {
     "name": "stdout",
     "output_type": "stream",
     "text": [
      "Assessing Tuning\n"
     ]
    },
    {
     "name": "stderr",
     "output_type": "stream",
     "text": [
      "/pkgs/pytorch-1.4-cuda10.1-conda-python3.6/apex/amp/wrap.py:28: UserWarning: Implicit dimension choice for softmax has been deprecated. Change the call to include dim=X as an argument.\n",
      "  return orig_fn(*new_args, **kwargs)\n"
     ]
    },
    {
     "name": "stdout",
     "output_type": "stream",
     "text": [
      "Epoch 10: Training Loss: 9.057211862633922e-06 Tuning loss: 0.0139\n"
     ]
    },
    {
     "data": {
      "image/png": "[encoded data removed]",
      "text/plain": [
       "<Figure size 795.625x360 with 2 Axes>"
      ]
     },
     "metadata": {
      "needs_background": "light"
     },
     "output_type": "display_data"
    },
    {
     "data": {
      "image/png": "[encoded data removed]",
      "text/plain": [
       "<Figure size 795.625x360 with 2 Axes>"
      ]
     },
     "metadata": {
      "needs_background": "light"
     },
     "output_type": "display_data"
    },
    {
     "data": {
      "image/png": "[encoded data removed]",
      "text/plain": [
       "<Figure size 795.625x360 with 2 Axes>"
      ]
     },
     "metadata": {
      "needs_background": "light"
     },
     "output_type": "display_data"
    },
    {
     "data": {
      "image/png": "[encoded data removed]",
      "text/plain": [
       "<Figure size 795.625x360 with 2 Axes>"
      ]
     },
     "metadata": {
      "needs_background": "light"
     },
     "output_type": "display_data"
    }
   ],
   "source": [
    "train_model(joblibpath, dictpaths, net, optimizer, model_name=model_name, MAXEPOCHS=11, MINIBATCH=512)"
   ]
  },
  {
   "cell_type": "code",
   "execution_count": 11,
   "metadata": {},
   "outputs": [],
   "source": [
    "from predict import *"
   ]
  },
  {
   "cell_type": "code",
   "execution_count": 12,
   "metadata": {},
   "outputs": [
    {
     "name": "stdout",
     "output_type": "stream",
     "text": [
      "Splitting Training into 0-32000\n",
      "Splitting Tuning into 32000-40000\n",
      "Splitting Validation into 40000-50000\n"
     ]
    },
    {
     "name": "stderr",
     "output_type": "stream",
     "text": [
      "/pkgs/pytorch-1.4-cuda10.1-conda-python3.6/apex/amp/wrap.py:28: UserWarning: Implicit dimension choice for softmax has been deprecated. Change the call to include dim=X as an argument.\n",
      "  return orig_fn(*new_args, **kwargs)\n"
     ]
    },
    {
     "name": "stdout",
     "output_type": "stream",
     "text": [
      "notebook_data/model_performance.tsv.gz\n"
     ]
    }
   ],
   "source": [
    "net.eval()\n",
    "outpath = os.path.join(outdir, \"model_performance.tsv.gz\")\n",
    "apply_model(\n",
    "        joblibpath, net, outpath, model_name=model_name)"
   ]
  },
  {
   "cell_type": "code",
   "execution_count": 13,
   "metadata": {},
   "outputs": [],
   "source": [
    "# look into the output directory and examine the log file and model_performance.tsv.gz file"
   ]
  },
  {
   "cell_type": "code",
   "execution_count": 15,
   "metadata": {},
   "outputs": [
    {
     "data": {
      "text/html": [
       "<div>\n",
       "<style scoped>\n",
       "    .dataframe tbody tr th:only-of-type {\n",
       "        vertical-align: middle;\n",
       "    }\n",
       "\n",
       "    .dataframe tbody tr th {\n",
       "        vertical-align: top;\n",
       "    }\n",
       "\n",
       "    .dataframe thead th {\n",
       "        text-align: right;\n",
       "    }\n",
       "</style>\n",
       "<table border=\"1\" class=\"dataframe\">\n",
       "  <thead>\n",
       "    <tr style=\"text-align: right;\">\n",
       "      <th></th>\n",
       "      <th>Response</th>\n",
       "      <th>Pred.Response</th>\n",
       "      <th>Input</th>\n",
       "      <th>MFEs</th>\n",
       "      <th>BCE</th>\n",
       "      <th>Average.Precision</th>\n",
       "      <th>Accuracy</th>\n",
       "    </tr>\n",
       "  </thead>\n",
       "  <tbody>\n",
       "    <tr>\n",
       "      <th>0</th>\n",
       "      <td>Unbound</td>\n",
       "      <td>6.448779e-09</td>\n",
       "      <td>AUACCGAUGGAGGGCGAGACAGGGAUUAUCCUAAUUAGAUCUCAGCCA</td>\n",
       "      <td>0.0</td>\n",
       "      <td>0.013541</td>\n",
       "      <td>0.998258</td>\n",
       "      <td>0.9978</td>\n",
       "    </tr>\n",
       "    <tr>\n",
       "      <th>1</th>\n",
       "      <td>Unbound</td>\n",
       "      <td>3.321419e-05</td>\n",
       "      <td>GAUCUAGAGAGGGGAUCCACAUUCAUCAGCCAUGCUAUCACUCCUACC</td>\n",
       "      <td>0.0</td>\n",
       "      <td>0.013541</td>\n",
       "      <td>0.998258</td>\n",
       "      <td>0.9978</td>\n",
       "    </tr>\n",
       "    <tr>\n",
       "      <th>2</th>\n",
       "      <td>Bound</td>\n",
       "      <td>9.999999e-01</td>\n",
       "      <td>CCGUCAGAUUUGCGAGAGCAUUGUAAUCUAUCUCCCAGAUAGAUUGAC</td>\n",
       "      <td>0.0</td>\n",
       "      <td>0.013541</td>\n",
       "      <td>0.998258</td>\n",
       "      <td>0.9978</td>\n",
       "    </tr>\n",
       "    <tr>\n",
       "      <th>3</th>\n",
       "      <td>Unbound</td>\n",
       "      <td>7.512231e-07</td>\n",
       "      <td>GCUUCCGCUAACAGUCUUUUACUGCACGCACCCGAAUAGGAGCAUGCC</td>\n",
       "      <td>0.0</td>\n",
       "      <td>0.013541</td>\n",
       "      <td>0.998258</td>\n",
       "      <td>0.9978</td>\n",
       "    </tr>\n",
       "    <tr>\n",
       "      <th>4</th>\n",
       "      <td>Unbound</td>\n",
       "      <td>4.718028e-09</td>\n",
       "      <td>GUCAGCUCUACAAUACCCUAGACAUCAGCUAAUGUAAAUCCGGAUAUA</td>\n",
       "      <td>0.0</td>\n",
       "      <td>0.013541</td>\n",
       "      <td>0.998258</td>\n",
       "      <td>0.9978</td>\n",
       "    </tr>\n",
       "  </tbody>\n",
       "</table>\n",
       "</div>"
      ],
      "text/plain": [
       "  Response  Pred.Response                                             Input  \\\n",
       "0  Unbound   6.448779e-09  AUACCGAUGGAGGGCGAGACAGGGAUUAUCCUAAUUAGAUCUCAGCCA   \n",
       "1  Unbound   3.321419e-05  GAUCUAGAGAGGGGAUCCACAUUCAUCAGCCAUGCUAUCACUCCUACC   \n",
       "2    Bound   9.999999e-01  CCGUCAGAUUUGCGAGAGCAUUGUAAUCUAUCUCCCAGAUAGAUUGAC   \n",
       "3  Unbound   7.512231e-07  GCUUCCGCUAACAGUCUUUUACUGCACGCACCCGAAUAGGAGCAUGCC   \n",
       "4  Unbound   4.718028e-09  GUCAGCUCUACAAUACCCUAGACAUCAGCUAAUGUAAAUCCGGAUAUA   \n",
       "\n",
       "   MFEs       BCE  Average.Precision  Accuracy  \n",
       "0   0.0  0.013541           0.998258    0.9978  \n",
       "1   0.0  0.013541           0.998258    0.9978  \n",
       "2   0.0  0.013541           0.998258    0.9978  \n",
       "3   0.0  0.013541           0.998258    0.9978  \n",
       "4   0.0  0.013541           0.998258    0.9978  "
      ]
     },
     "execution_count": 15,
     "metadata": {},
     "output_type": "execute_result"
    }
   ],
   "source": [
    "perfdf = pd.read_csv(outpath, sep=\"\\t\", compression=\"gzip\")\n",
    "perfdf.head()"
   ]
  },
  {
   "cell_type": "code",
   "execution_count": 17,
   "metadata": {},
   "outputs": [
    {
     "data": {
      "text/plain": [
       "<AxesSubplot:xlabel='Response', ylabel='Pred.Response'>"
      ]
     },
     "execution_count": 17,
     "metadata": {},
     "output_type": "execute_result"
    },
    {
     "data": {
      "image/png": "[encoded data removed]",
      "text/plain": [
       "<Figure size 432x288 with 1 Axes>"
      ]
     },
     "metadata": {
      "needs_background": "light"
     },
     "output_type": "display_data"
    }
   ],
   "source": [
    "import seaborn as sns\n",
    "sns.violinplot(y=\"Pred.Response\", x=\"Response\", data=perfdf)"
   ]
  },
  {
   "cell_type": "code",
   "execution_count": null,
   "metadata": {},
   "outputs": [],
   "source": []
  }
 ],
 "metadata": {
  "kernelspec": {
   "display_name": "bio",
   "language": "python",
   "name": "bio"
  },
  "language_info": {
   "codemirror_mode": {
    "name": "ipython",
    "version": 3
   },
   "file_extension": ".py",
   "mimetype": "text/x-python",
   "name": "python",
   "nbconvert_exporter": "python",
   "pygments_lexer": "ipython3",
   "version": "3.6.10"
  }
 },
 "nbformat": 4,
 "nbformat_minor": 2
}
